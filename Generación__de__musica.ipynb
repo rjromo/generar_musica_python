{
  "nbformat": 4,
  "nbformat_minor": 0,
  "metadata": {
    "colab": {
      "name": "Generación _de _musica.ipynb",
      "provenance": [],
      "toc_visible": true,
      "authorship_tag": "ABX9TyMFNW7pnlII+J7Dy8jqw6py",
      "include_colab_link": true
    },
    "kernelspec": {
      "name": "python3",
      "display_name": "Python 3"
    }
  },
  "cells": [
    {
      "cell_type": "markdown",
      "metadata": {
        "id": "view-in-github",
        "colab_type": "text"
      },
      "source": [
        "<a href=\"https://colab.research.google.com/github/rjromo/generar_musica_python/blob/master/Generaci%C3%B3n__de__musica.ipynb\" target=\"_parent\"><img src=\"https://colab.research.google.com/assets/colab-badge.svg\" alt=\"Open In Colab\"/></a>"
      ]
    },
    {
      "cell_type": "code",
      "metadata": {
        "id": "_BZttuzRGxOe",
        "colab_type": "code",
        "colab": {}
      },
      "source": [
        "%matplotlib inline\n",
        "\n",
        "import numpy as np\n",
        "import matplotlib.pyplot as plt\n",
        "from scipy.io import wavfile"
      ],
      "execution_count": 0,
      "outputs": []
    },
    {
      "cell_type": "code",
      "metadata": {
        "id": "EAYvDGx4Hs-g",
        "colab_type": "code",
        "colab": {}
      },
      "source": [
        "# Leyendo el archivo wav\n",
        "sampling_freq, audio = wavfile.read('input_read.wav')\n"
      ],
      "execution_count": 0,
      "outputs": []
    },
    {
      "cell_type": "code",
      "metadata": {
        "id": "xT9dytCdJZo-",
        "colab_type": "code",
        "colab": {}
      },
      "source": [
        "# Imprimiendo los parámetros\n",
        "print ('\\nShape:', audio.shape)\n",
        "print ('Datatype:', audio.dtype)\n",
        "print ('Duration:', round(audio.shape[0] / float(sampling_freq), 3), 'seconds')"
      ],
      "execution_count": 0,
      "outputs": []
    },
    {
      "cell_type": "code",
      "metadata": {
        "id": "ifJ-JOJiJtR5",
        "colab_type": "code",
        "colab": {}
      },
      "source": [
        "# Normalizando los valores\n",
        "audio = audio / (2.**15)"
      ],
      "execution_count": 0,
      "outputs": []
    },
    {
      "cell_type": "code",
      "metadata": {
        "id": "CFj7gXYZJ63S",
        "colab_type": "code",
        "colab": {}
      },
      "source": [
        "# Extraer los primeros 30 valores para graficar\n",
        "audio = audio[:30]"
      ],
      "execution_count": 0,
      "outputs": []
    },
    {
      "cell_type": "code",
      "metadata": {
        "id": "HcwJY3XaKGsG",
        "colab_type": "code",
        "colab": {}
      },
      "source": [
        "# Construyendo el eje del tiempo\n",
        "x_values = np.arange(0, len(audio), 1) / float(sampling_freq)\n",
        "# Conviertiendo a segundos\n",
        "x_values *= 1000"
      ],
      "execution_count": 0,
      "outputs": []
    },
    {
      "cell_type": "code",
      "metadata": {
        "id": "0HmS7RCzKdQG",
        "colab_type": "code",
        "colab": {}
      },
      "source": [
        "# Graficando la señal cortada\n",
        "plt.plot(x_values, audio, color='black')\n",
        "plt.xlabel('Tiempo (ms)')\n",
        "plt.ylabel('Amplitud')\n",
        "plt.title('Señal de Audio')\n",
        "plt.show()"
      ],
      "execution_count": 0,
      "outputs": []
    },
    {
      "cell_type": "code",
      "metadata": {
        "id": "965WLSfFLLTV",
        "colab_type": "code",
        "colab": {}
      },
      "source": [
        "# Leyendo el archivo input_freq\n",
        "sampling_freq, audio = wavfile.read('input_freq.wav')\n",
        "# Normalizando los valores\n",
        "audio = audio / (2.**15)\n",
        "# Extraer longitud\n",
        "len_audio = len(audio)"
      ],
      "execution_count": 0,
      "outputs": []
    },
    {
      "cell_type": "code",
      "metadata": {
        "id": "y-Z6-uiXMvp0",
        "colab_type": "code",
        "colab": {}
      },
      "source": [
        "# Aplicando la transformada de Fourier\n",
        "transformed_signal = np.fft.fft(audio)\n",
        "half_length = int(np.ceil((len_audio + 1) / 2.0))\n",
        "transformed_signal = abs(transformed_signal[0:half_length])\n",
        "transformed_signal /= float(len_audio)\n",
        "transformed_signal **= 2"
      ],
      "execution_count": 0,
      "outputs": []
    },
    {
      "cell_type": "code",
      "metadata": {
        "id": "rmoCPvKEM-MX",
        "colab_type": "code",
        "colab": {}
      },
      "source": [
        "# Extraer la longitud de la señal transformada\n",
        "len_ts = len(transformed_signal)\n",
        "\n",
        "# Casos pares e impares\n",
        "if len_audio % 2:\n",
        "    transformed_signal[1:len_ts] *= 2\n",
        "else:\n",
        "    transformed_signal[1:len_ts-1] *= 2\n",
        "\n",
        "\n",
        "# Extrayendo la potencia en decibeles dB\n",
        "power = 10 * np.log10(transformed_signal)"
      ],
      "execution_count": 0,
      "outputs": []
    },
    {
      "cell_type": "code",
      "metadata": {
        "id": "xTB20c-GNrR4",
        "colab_type": "code",
        "colab": {}
      },
      "source": [
        "# Construyendo el eje del tiempo\n",
        "x_values = np.arange(0, half_length, 1) * (sampling_freq / len_audio) / 1000.0\n",
        "\n",
        "# Graficando\n",
        "plt.figure()\n",
        "plt.plot(x_values, power, color='black')\n",
        "plt.xlabel('Freq (in kHz)')\n",
        "plt.ylabel('Power (in dB)')\n",
        "plt.show()"
      ],
      "execution_count": 0,
      "outputs": []
    },
    {
      "cell_type": "code",
      "metadata": {
        "id": "_5qG39TUN7RS",
        "colab_type": "code",
        "colab": {}
      },
      "source": [
        "##Generando señales de audio"
      ],
      "execution_count": 0,
      "outputs": []
    },
    {
      "cell_type": "code",
      "metadata": {
        "id": "5tsBsWuGPx2D",
        "colab_type": "code",
        "colab": {}
      },
      "source": [
        "# Archivo que será guardado\n",
        "output_file = 'output_generated.wav'"
      ],
      "execution_count": 0,
      "outputs": []
    },
    {
      "cell_type": "code",
      "metadata": {
        "id": "pa65Cqm2QF4x",
        "colab_type": "code",
        "colab": {}
      },
      "source": [
        "# Especificando los parámetros del audio\n",
        "duration = 3  # segundos\n",
        "sampling_freq = 44100  # Hz\n",
        "tone_freq = 587\n",
        "min_val = -2 * np.pi\n",
        "max_val = 2 * np.pi\n",
        "\n",
        "# Generar audio\n",
        "t = np.linspace(min_val, max_val, duration * sampling_freq)\n",
        "audio = np.sin(2 * np.pi * tone_freq * t)\n",
        "\n",
        "# Añadir ruido\n",
        "noise = 0.4 * np.random.rand(duration * sampling_freq)\n",
        "audio += noise"
      ],
      "execution_count": 0,
      "outputs": []
    },
    {
      "cell_type": "code",
      "metadata": {
        "id": "kpSYY9CMQsMg",
        "colab_type": "code",
        "colab": {}
      },
      "source": [
        "# Escalar a 16 bits los valores enteros\n",
        "scaling_factor = pow(2,15) - 1\n",
        "audio_normalized = audio / np.max(np.abs(audio))\n",
        "audio_scaled = np.int16(audio_normalized * scaling_factor)\n",
        "\n",
        "# Escribir el archivo de salida\n",
        "write(output_file, sampling_freq, audio_scaled)"
      ],
      "execution_count": 0,
      "outputs": []
    },
    {
      "cell_type": "code",
      "metadata": {
        "id": "I07TwMVeQ_OA",
        "colab_type": "code",
        "colab": {}
      },
      "source": [
        "# Extraer los primeros 100 valores\n",
        "audio = audio[:100]\n",
        "\n",
        "# Construyendo el eje del tiempo\n",
        "x_values = np.arange(0, len(audio), 1) / float(sampling_freq)\n",
        "\n",
        "# Convirtiendo a segundos\n",
        "x_values *= 1000\n",
        "\n",
        "# Graficando la señal\n",
        "plt.plot(x_values, audio, color='black')\n",
        "plt.xlabel('Tiempo (ms)')\n",
        "plt.ylabel('Amplitud')\n",
        "plt.title('Señal de Audio')\n",
        "plt.show()\n"
      ],
      "execution_count": 0,
      "outputs": []
    },
    {
      "cell_type": "code",
      "metadata": {
        "id": "kRgIUy_vVvoR",
        "colab_type": "code",
        "colab": {}
      },
      "source": [
        "##Generando música\n"
      ],
      "execution_count": 0,
      "outputs": []
    },
    {
      "cell_type": "code",
      "metadata": {
        "id": "YdfBG7YAWbx5",
        "colab_type": "code",
        "colab": {}
      },
      "source": [
        "import json"
      ],
      "execution_count": 0,
      "outputs": []
    },
    {
      "cell_type": "code",
      "metadata": {
        "id": "UQDOul6gWcNQ",
        "colab_type": "code",
        "colab": {}
      },
      "source": [
        "# Sintetizar\n",
        "def synthesizer(freq, duration, amp=1.0, sampling_freq=44100):\n",
        "    # Construir el eje del tiempo\n",
        "    t = np.linspace(0, duration, duration * sampling_freq)\n",
        "\n",
        "    # Construir la señal de audio\n",
        "    audio = amp * np.sin(2 * np.pi * freq * t)\n",
        "\n",
        "    return audio.astype(np.int16) \n",
        "\n",
        "if __name__=='__main__':\n",
        "    # Archivo json que contiene el mapa de las notas\n",
        "    tone_map_file = 'tone_freq_map.json'\n",
        "    \n",
        "    # Leyendo el mapa de frecuencias\n",
        "    with open(tone_map_file, 'r') as f:\n",
        "        tone_freq_map = json.loads(f.read())\n",
        "        \n",
        "    # Configurando parámetros para la nota G\n",
        "    input_tone = 'G'\n",
        "    duration = 2     # seconds\n",
        "    amplitude = 10000\n",
        "    sampling_freq = 44100    # Hz\n",
        "\n",
        "    # Generando el tono\n",
        "    synthesized_tone = synthesizer(tone_freq_map[input_tone], duration, amplitude, sampling_freq)\n",
        "\n",
        "    # Escribiendo al archivo de salida\n",
        "    write('output_tone.wav', sampling_freq, synthesized_tone)"
      ],
      "execution_count": 0,
      "outputs": []
    },
    {
      "cell_type": "code",
      "metadata": {
        "id": "jps5Xf6sXMJ_",
        "colab_type": "code",
        "colab": {}
      },
      "source": [
        ""
      ],
      "execution_count": 0,
      "outputs": []
    }
  ]
}